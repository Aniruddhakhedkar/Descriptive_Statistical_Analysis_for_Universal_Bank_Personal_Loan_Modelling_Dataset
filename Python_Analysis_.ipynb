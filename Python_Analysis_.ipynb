{
 "cells": [
  {
   "cell_type": "markdown",
   "id": "83b3fe9c",
   "metadata": {},
   "source": [
    "## Project Title- Performing Descriptive Statistics with Python for an Universal Bank's Personal Loan Dataset"
   ]
  },
  {
   "cell_type": "code",
   "execution_count": 20,
   "id": "5b1f2e5e",
   "metadata": {},
   "outputs": [],
   "source": [
    "import numpy as np\n",
    "import pandas as pd\n",
    "import matplotlib.pyplot as plt\n",
    "import seaborn as sns\n",
    "import datetime as dt"
   ]
  },
  {
   "cell_type": "markdown",
   "id": "6d7a5ffa",
   "metadata": {},
   "source": [
    "#### Question.1)-A statistics test was conducted for 10 learners in a class. The mean of their score is 85 and the variance of the score is zero. What can you interpret about the score obtained by all learners"
   ]
  },
  {
   "cell_type": "markdown",
   "id": "3f7c572d",
   "metadata": {},
   "source": [
    "#### Answer-\n",
    "If the variance of the marks is zero, it implies that all 10 learners obtained the same marks, i.e. each learner achieved the identical score of 85. This indiates a same level of performance by 10 learners, indicating very high consistency in result."
   ]
  },
  {
   "cell_type": "markdown",
   "id": "3fc488d7",
   "metadata": {},
   "source": [
    "#### Question.2)- In a residential locality, the mean size of the house is 2224 square feet and the median value of the house is 1500 square feet. What can you interpret about the skewness in the distribution of house size? Are there bigger or smaller houses in the residential locality?"
   ]
  },
  {
   "cell_type": "markdown",
   "id": "258d2e40",
   "metadata": {},
   "source": [
    "#### Answer-\n",
    "1) As the median of the variable is lower than the mean, the distribution is considered as a right/positively  skewed and asymmetric in nature.\n",
    "2) Furthermore, as the difference between median and mean value is high (724 square feet), it indicates that there exists a significant spread of the variable and hence the residential locality will have bigger and smaller houses. Some of the bigger houses are shifting the mean of the distribution, thereby contributing to the variance."
   ]
  },
  {
   "cell_type": "markdown",
   "id": "d90e13bb",
   "metadata": {},
   "source": [
    "#### Question.3)-The following table shows the mean and variance of the expenditure for two groups of people.You want to compare the variability in expenditure for both groups with respect to their mean. Which statistical measure would you use to evaluate the variability in expenditure? Please provide an explanation for your answer."
   ]
  },
  {
   "cell_type": "code",
   "execution_count": 21,
   "id": "67e76889",
   "metadata": {},
   "outputs": [
    {
     "name": "stdout",
     "output_type": "stream",
     "text": [
      "Coefficient_of_Variation_for_Group_1= 25.0\n",
      "Coefficient_of_Variation_for_Group_2= 25.0\n"
     ]
    }
   ],
   "source": [
    "group_1_mean=500000\n",
    "group_1_SD=125000\n",
    "group_2_mean=40000\n",
    "group_2_SD=10000\n",
    "\n",
    "CV_group_1=(group_1_SD/group_1_mean)*100\n",
    "print('Coefficient_of_Variation_for_Group_1=',CV_group_1)\n",
    "CV_group_2=(group_2_SD/group_2_mean)*100\n",
    "print('Coefficient_of_Variation_for_Group_2=',CV_group_2)"
   ]
  },
  {
   "cell_type": "markdown",
   "id": "302eb0d6",
   "metadata": {},
   "source": [
    "#### Answer-\n",
    "1) To evaluate the variability in expenditure for both groups with respect to their mean, I will prefer to use the statistical measure caled as the coefficient of variation (CV). The coefficient of variation measures relative variability, helpful when comparing data with different units or scales for consistency. \n",
    "\n",
    "2) A lower CV indicates lower variability, while a higher CV indicates higher variabilityrelative to mean.\n",
    "\n",
    "3) In above case, as the CV for both the groups remains same, we can conclude that the variability in expenditures for these groups is same."
   ]
  },
  {
   "cell_type": "markdown",
   "id": "7c27d4cc",
   "metadata": {},
   "source": [
    "#### Question.4)-During the survey, the ages of 80 patients infected by COVID and admitted to one of the city hospitals were recorded and the collected data is represented in the less than cumulative frequency distribution table.\n",
    "\n",
    "a. Which class interval has the highest frequency?\n",
    "\n",
    "b. Which age was affected the least?\n",
    "\n",
    "c. How many patients aged 45 years and above were admitted?\n",
    "\n",
    "d. Which is the modal class interval in the above dataset\n",
    "\n",
    "e. What is the median class interval of age?"
   ]
  },
  {
   "cell_type": "markdown",
   "id": "3b14a0f6",
   "metadata": {},
   "source": [
    "#### Answer-\n",
    "\n",
    "1) Class interval (35-45) observes highest frequency.\n",
    "\n",
    "2) Age (55-65) was the less affected age, as it recorded only 5 observations.\n",
    "\n",
    "3) A total of 19 patients aged 45 years and above were admitted in the hospital.\n",
    "\n",
    "4) Class interval that observed highest no of observations is termed as model class. Hence in the given data set, the class (35-45) is termed as a model class.\n",
    "\n",
    "5) The median class for the given dataset is (35-45), as the median for the same is (35.87). It's calculation is given below."
   ]
  },
  {
   "cell_type": "code",
   "execution_count": 22,
   "id": "d26ebf3e",
   "metadata": {},
   "outputs": [
    {
     "name": "stdout",
     "output_type": "stream",
     "text": [
      "Cumulative frequency of the class preceding the median class (CF)= 38\n",
      "Frequency of the median class (f)= 23\n",
      "Lower boundary of the median class (L)= 35\n",
      "Class width (h)= 10\n",
      "Total no of observations in a dataset (N)= 80\n",
      "Median for the dataset= 35.869565217391305\n",
      "The median class for the dataset is (35-45)\n"
     ]
    }
   ],
   "source": [
    "#Calculation for the median class-\n",
    "\n",
    "CF=(21+11+6)\n",
    "print('Cumulative frequency of the class preceding the median class (CF)=',CF)\n",
    "f=(23)\n",
    "print('Frequency of the median class (f)=',f)\n",
    "L=(35)\n",
    "print('Lower boundary of the median class (L)=',L)\n",
    "h=(10)\n",
    "print('Class width (h)=',h)\n",
    "N=(6+11+21+23+14+5)\n",
    "print('Total no of observations in a dataset (N)=',N)\n",
    "\n",
    "Median=L+((N/2-CF)/f)*h\n",
    "print('Median for the dataset=',Median)\n",
    "print('The median class for the dataset is (35-45)')"
   ]
  },
  {
   "cell_type": "markdown",
   "id": "1ecb6e8b",
   "metadata": {},
   "source": [
    "#### Question.5)-Assume you are the trader and you have invested over the years, and you are worried about the average return on investment. What average method would you use to compute the average return for the data given below?"
   ]
  },
  {
   "cell_type": "code",
   "execution_count": 23,
   "id": "16cb280f",
   "metadata": {},
   "outputs": [
    {
     "data": {
      "text/plain": [
       "-1.43"
      ]
     },
     "execution_count": 23,
     "metadata": {},
     "output_type": "execute_result"
    }
   ],
   "source": [
    "data={'Year':[2015,2016,2017,2018,2019,2020],\n",
    "        'Return':[36,23,-48,-30,15,31],\n",
    "     'Asset Price':[5000,6400,7980,9023,4567,3890]}\n",
    "df=pd.DataFrame(data)\n",
    "df\n",
    "\n",
    "df['New Return']=1+df['Return']/100\n",
    "x=df['New Return'].prod()\n",
    "n=len(df)\n",
    "\n",
    "g_mean=x**(1/n)\n",
    "\n",
    "return_average = (g_mean-1)*100\n",
    "\n",
    "return_average.round(2)"
   ]
  },
  {
   "cell_type": "markdown",
   "id": "fdeaeecb",
   "metadata": {},
   "source": [
    "#### Question.6)- Suppose you have been told to measure the average height of all the males on the earth. What would be your strategy for the same? Would the average height be a parameter or a statistic? Justify your answer."
   ]
  },
  {
   "cell_type": "markdown",
   "id": "958863ce",
   "metadata": {},
   "source": [
    "#### Answer-\n",
    "\n",
    "1) The global male population remained around 3.7 billion approximately till 2023. To calculate the average height of the all males, I will divide the globe into five distinct regions (North America, South America, Europe, Asia PAcific, and Middle east & Africa)\n",
    "2) Then I will collect samples from these five distinct regions for the males having age above 24 years based on simple random sampling, as the sampling frame is not known to us.\n",
    "3) Then I will calculate the average height of the males by using these samples, as they are representatiove of male population across the globe.\n",
    "4) The average height of all males on Earth would be a parameter. Parameters describe characteristics of a population, in this case, all males globally. \n",
    "5) Statistics, on the other hand, refer to characteristics of a sample from that population, not the entire population itself."
   ]
  },
  {
   "cell_type": "markdown",
   "id": "0c5ed734",
   "metadata": {},
   "source": [
    "#### Question.7)- Calculate the z score of the following numbers:\n",
    "\n",
    "X = [4.5,6.2,7.3,9.1,10.4,11]"
   ]
  },
  {
   "cell_type": "code",
   "execution_count": 29,
   "id": "b9fdd77b",
   "metadata": {},
   "outputs": [
    {
     "name": "stdout",
     "output_type": "stream",
     "text": [
      "[ 4.5  6.2  7.3  9.1 10.4 11. ]\n",
      "z-score of the given array= [-1.55385602 -0.81667781 -0.33968015  0.44086148  1.00458598  1.26476653]\n"
     ]
    }
   ],
   "source": [
    "from scipy import stats\n",
    "data=np.array([4.5,6.2,7.3,9.1,10.4,11.0])\n",
    "print(data)\n",
    "\n",
    "z_score=stats.zscore(data)\n",
    "print('z-score of the given array=',z_score)"
   ]
  },
  {
   "cell_type": "code",
   "execution_count": 32,
   "id": "92ca8bd6",
   "metadata": {},
   "outputs": [
    {
     "data": {
      "text/html": [
       "<div>\n",
       "<style scoped>\n",
       "    .dataframe tbody tr th:only-of-type {\n",
       "        vertical-align: middle;\n",
       "    }\n",
       "\n",
       "    .dataframe tbody tr th {\n",
       "        vertical-align: top;\n",
       "    }\n",
       "\n",
       "    .dataframe thead th {\n",
       "        text-align: right;\n",
       "    }\n",
       "</style>\n",
       "<table border=\"1\" class=\"dataframe\">\n",
       "  <thead>\n",
       "    <tr style=\"text-align: right;\">\n",
       "      <th></th>\n",
       "      <th>ID</th>\n",
       "      <th>Age</th>\n",
       "      <th>Experience</th>\n",
       "      <th>Income</th>\n",
       "      <th>ZIP Code</th>\n",
       "      <th>Family</th>\n",
       "      <th>CCAvg</th>\n",
       "      <th>Education</th>\n",
       "      <th>Mortgage</th>\n",
       "      <th>Personal Loan</th>\n",
       "      <th>Securities Account</th>\n",
       "      <th>CD Account</th>\n",
       "      <th>Online</th>\n",
       "      <th>CreditCard</th>\n",
       "    </tr>\n",
       "  </thead>\n",
       "  <tbody>\n",
       "    <tr>\n",
       "      <th>0</th>\n",
       "      <td>1</td>\n",
       "      <td>25</td>\n",
       "      <td>1</td>\n",
       "      <td>49</td>\n",
       "      <td>91107</td>\n",
       "      <td>4</td>\n",
       "      <td>1.6</td>\n",
       "      <td>1</td>\n",
       "      <td>0</td>\n",
       "      <td>0</td>\n",
       "      <td>1</td>\n",
       "      <td>0</td>\n",
       "      <td>0</td>\n",
       "      <td>0</td>\n",
       "    </tr>\n",
       "    <tr>\n",
       "      <th>1</th>\n",
       "      <td>2</td>\n",
       "      <td>45</td>\n",
       "      <td>19</td>\n",
       "      <td>34</td>\n",
       "      <td>90089</td>\n",
       "      <td>3</td>\n",
       "      <td>1.5</td>\n",
       "      <td>1</td>\n",
       "      <td>0</td>\n",
       "      <td>0</td>\n",
       "      <td>1</td>\n",
       "      <td>0</td>\n",
       "      <td>0</td>\n",
       "      <td>0</td>\n",
       "    </tr>\n",
       "    <tr>\n",
       "      <th>2</th>\n",
       "      <td>3</td>\n",
       "      <td>39</td>\n",
       "      <td>15</td>\n",
       "      <td>11</td>\n",
       "      <td>94720</td>\n",
       "      <td>1</td>\n",
       "      <td>1.0</td>\n",
       "      <td>1</td>\n",
       "      <td>0</td>\n",
       "      <td>0</td>\n",
       "      <td>0</td>\n",
       "      <td>0</td>\n",
       "      <td>0</td>\n",
       "      <td>0</td>\n",
       "    </tr>\n",
       "    <tr>\n",
       "      <th>3</th>\n",
       "      <td>4</td>\n",
       "      <td>35</td>\n",
       "      <td>9</td>\n",
       "      <td>100</td>\n",
       "      <td>94112</td>\n",
       "      <td>1</td>\n",
       "      <td>2.7</td>\n",
       "      <td>2</td>\n",
       "      <td>0</td>\n",
       "      <td>0</td>\n",
       "      <td>0</td>\n",
       "      <td>0</td>\n",
       "      <td>0</td>\n",
       "      <td>0</td>\n",
       "    </tr>\n",
       "    <tr>\n",
       "      <th>4</th>\n",
       "      <td>5</td>\n",
       "      <td>35</td>\n",
       "      <td>8</td>\n",
       "      <td>45</td>\n",
       "      <td>91330</td>\n",
       "      <td>4</td>\n",
       "      <td>1.0</td>\n",
       "      <td>2</td>\n",
       "      <td>0</td>\n",
       "      <td>0</td>\n",
       "      <td>0</td>\n",
       "      <td>0</td>\n",
       "      <td>0</td>\n",
       "      <td>1</td>\n",
       "    </tr>\n",
       "    <tr>\n",
       "      <th>...</th>\n",
       "      <td>...</td>\n",
       "      <td>...</td>\n",
       "      <td>...</td>\n",
       "      <td>...</td>\n",
       "      <td>...</td>\n",
       "      <td>...</td>\n",
       "      <td>...</td>\n",
       "      <td>...</td>\n",
       "      <td>...</td>\n",
       "      <td>...</td>\n",
       "      <td>...</td>\n",
       "      <td>...</td>\n",
       "      <td>...</td>\n",
       "      <td>...</td>\n",
       "    </tr>\n",
       "    <tr>\n",
       "      <th>4995</th>\n",
       "      <td>4996</td>\n",
       "      <td>29</td>\n",
       "      <td>3</td>\n",
       "      <td>40</td>\n",
       "      <td>92697</td>\n",
       "      <td>1</td>\n",
       "      <td>1.9</td>\n",
       "      <td>3</td>\n",
       "      <td>0</td>\n",
       "      <td>0</td>\n",
       "      <td>0</td>\n",
       "      <td>0</td>\n",
       "      <td>1</td>\n",
       "      <td>0</td>\n",
       "    </tr>\n",
       "    <tr>\n",
       "      <th>4996</th>\n",
       "      <td>4997</td>\n",
       "      <td>30</td>\n",
       "      <td>4</td>\n",
       "      <td>15</td>\n",
       "      <td>92037</td>\n",
       "      <td>4</td>\n",
       "      <td>0.4</td>\n",
       "      <td>1</td>\n",
       "      <td>85</td>\n",
       "      <td>0</td>\n",
       "      <td>0</td>\n",
       "      <td>0</td>\n",
       "      <td>1</td>\n",
       "      <td>0</td>\n",
       "    </tr>\n",
       "    <tr>\n",
       "      <th>4997</th>\n",
       "      <td>4998</td>\n",
       "      <td>63</td>\n",
       "      <td>39</td>\n",
       "      <td>24</td>\n",
       "      <td>93023</td>\n",
       "      <td>2</td>\n",
       "      <td>0.3</td>\n",
       "      <td>3</td>\n",
       "      <td>0</td>\n",
       "      <td>0</td>\n",
       "      <td>0</td>\n",
       "      <td>0</td>\n",
       "      <td>0</td>\n",
       "      <td>0</td>\n",
       "    </tr>\n",
       "    <tr>\n",
       "      <th>4998</th>\n",
       "      <td>4999</td>\n",
       "      <td>65</td>\n",
       "      <td>40</td>\n",
       "      <td>49</td>\n",
       "      <td>90034</td>\n",
       "      <td>3</td>\n",
       "      <td>0.5</td>\n",
       "      <td>2</td>\n",
       "      <td>0</td>\n",
       "      <td>0</td>\n",
       "      <td>0</td>\n",
       "      <td>0</td>\n",
       "      <td>1</td>\n",
       "      <td>0</td>\n",
       "    </tr>\n",
       "    <tr>\n",
       "      <th>4999</th>\n",
       "      <td>5000</td>\n",
       "      <td>28</td>\n",
       "      <td>4</td>\n",
       "      <td>83</td>\n",
       "      <td>92612</td>\n",
       "      <td>3</td>\n",
       "      <td>0.8</td>\n",
       "      <td>1</td>\n",
       "      <td>0</td>\n",
       "      <td>0</td>\n",
       "      <td>0</td>\n",
       "      <td>0</td>\n",
       "      <td>1</td>\n",
       "      <td>1</td>\n",
       "    </tr>\n",
       "  </tbody>\n",
       "</table>\n",
       "<p>5000 rows × 14 columns</p>\n",
       "</div>"
      ],
      "text/plain": [
       "        ID  Age  Experience  Income  ZIP Code  Family  CCAvg  Education  \\\n",
       "0        1   25           1      49     91107       4    1.6          1   \n",
       "1        2   45          19      34     90089       3    1.5          1   \n",
       "2        3   39          15      11     94720       1    1.0          1   \n",
       "3        4   35           9     100     94112       1    2.7          2   \n",
       "4        5   35           8      45     91330       4    1.0          2   \n",
       "...    ...  ...         ...     ...       ...     ...    ...        ...   \n",
       "4995  4996   29           3      40     92697       1    1.9          3   \n",
       "4996  4997   30           4      15     92037       4    0.4          1   \n",
       "4997  4998   63          39      24     93023       2    0.3          3   \n",
       "4998  4999   65          40      49     90034       3    0.5          2   \n",
       "4999  5000   28           4      83     92612       3    0.8          1   \n",
       "\n",
       "      Mortgage  Personal Loan  Securities Account  CD Account  Online  \\\n",
       "0            0              0                   1           0       0   \n",
       "1            0              0                   1           0       0   \n",
       "2            0              0                   0           0       0   \n",
       "3            0              0                   0           0       0   \n",
       "4            0              0                   0           0       0   \n",
       "...        ...            ...                 ...         ...     ...   \n",
       "4995         0              0                   0           0       1   \n",
       "4996        85              0                   0           0       1   \n",
       "4997         0              0                   0           0       0   \n",
       "4998         0              0                   0           0       1   \n",
       "4999         0              0                   0           0       1   \n",
       "\n",
       "      CreditCard  \n",
       "0              0  \n",
       "1              0  \n",
       "2              0  \n",
       "3              0  \n",
       "4              1  \n",
       "...          ...  \n",
       "4995           0  \n",
       "4996           0  \n",
       "4997           0  \n",
       "4998           0  \n",
       "4999           1  \n",
       "\n",
       "[5000 rows x 14 columns]"
      ]
     },
     "execution_count": 32,
     "metadata": {},
     "output_type": "execute_result"
    }
   ],
   "source": [
    "df=pd.read_csv(r\"C:\\Users\\aniru\\Desktop\\Descriptive Statistics_Graded_Project\\Bank Personal Loan Modelling.csv\")\n",
    "df"
   ]
  },
  {
   "cell_type": "markdown",
   "id": "a5f24651",
   "metadata": {},
   "source": [
    "#### Dataframe Understanding- The above dataframe consists of a set of categorical and continuous variables and we have to segregate them to perform appropriate analysis.\n",
    "\n",
    "Categorical variables Under the Study-\n",
    "1) ID\n",
    "2) ZIP Code\n",
    "3) Education \n",
    "4) Personal Loan\n",
    "5) Securities Account\n",
    "6) CD Account\n",
    "7) Online\n",
    "8) Credit Card\n",
    "\n",
    "Continuous Variables Under the Study-\n",
    "1) Age\n",
    "2) Experience\n",
    "3) Income\n",
    "4) Family\n",
    "5) CCAvg\n",
    "6) Mortgage "
   ]
  },
  {
   "cell_type": "code",
   "execution_count": 33,
   "id": "39bbbd4a",
   "metadata": {},
   "outputs": [
    {
     "name": "stdout",
     "output_type": "stream",
     "text": [
      "ID                    0\n",
      "ZIP Code              0\n",
      "Education             0\n",
      "Personal Loan         0\n",
      "Securities Account    0\n",
      "CD Account            0\n",
      "Online                0\n",
      "CreditCard            0\n",
      "dtype: int64\n",
      "<class 'pandas.core.frame.DataFrame'>\n",
      "RangeIndex: 5000 entries, 0 to 4999\n",
      "Data columns (total 8 columns):\n",
      " #   Column              Non-Null Count  Dtype \n",
      "---  ------              --------------  ----- \n",
      " 0   ID                  5000 non-null   object\n",
      " 1   ZIP Code            5000 non-null   object\n",
      " 2   Education           5000 non-null   object\n",
      " 3   Personal Loan       5000 non-null   object\n",
      " 4   Securities Account  5000 non-null   object\n",
      " 5   CD Account          5000 non-null   object\n",
      " 6   Online              5000 non-null   object\n",
      " 7   CreditCard          5000 non-null   object\n",
      "dtypes: object(8)\n",
      "memory usage: 312.6+ KB\n"
     ]
    },
    {
     "name": "stderr",
     "output_type": "stream",
     "text": [
      "C:\\Users\\aniru\\AppData\\Local\\Temp\\ipykernel_3264\\2819352705.py:5: SettingWithCopyWarning: \n",
      "A value is trying to be set on a copy of a slice from a DataFrame.\n",
      "Try using .loc[row_indexer,col_indexer] = value instead\n",
      "\n",
      "See the caveats in the documentation: https://pandas.pydata.org/pandas-docs/stable/user_guide/indexing.html#returning-a-view-versus-a-copy\n",
      "  x['Education']=x['Education'].replace({1:'Undergrad',2:'Graduate',3:'Advanced/Professional'})\n",
      "C:\\Users\\aniru\\AppData\\Local\\Temp\\ipykernel_3264\\2819352705.py:8: SettingWithCopyWarning: \n",
      "A value is trying to be set on a copy of a slice from a DataFrame.\n",
      "Try using .loc[row_indexer,col_indexer] = value instead\n",
      "\n",
      "See the caveats in the documentation: https://pandas.pydata.org/pandas-docs/stable/user_guide/indexing.html#returning-a-view-versus-a-copy\n",
      "  x['Personal Loan']=x['Personal Loan'].replace({1:'Yes',0:'No'})\n",
      "C:\\Users\\aniru\\AppData\\Local\\Temp\\ipykernel_3264\\2819352705.py:11: SettingWithCopyWarning: \n",
      "A value is trying to be set on a copy of a slice from a DataFrame.\n",
      "Try using .loc[row_indexer,col_indexer] = value instead\n",
      "\n",
      "See the caveats in the documentation: https://pandas.pydata.org/pandas-docs/stable/user_guide/indexing.html#returning-a-view-versus-a-copy\n",
      "  x['Securities Account']=x['Securities Account'].replace({1:'Yes',0:'No'})\n",
      "C:\\Users\\aniru\\AppData\\Local\\Temp\\ipykernel_3264\\2819352705.py:14: SettingWithCopyWarning: \n",
      "A value is trying to be set on a copy of a slice from a DataFrame.\n",
      "Try using .loc[row_indexer,col_indexer] = value instead\n",
      "\n",
      "See the caveats in the documentation: https://pandas.pydata.org/pandas-docs/stable/user_guide/indexing.html#returning-a-view-versus-a-copy\n",
      "  x['CD Account']=x['CD Account'].replace({1:'Yes',0:'No'})\n",
      "C:\\Users\\aniru\\AppData\\Local\\Temp\\ipykernel_3264\\2819352705.py:17: SettingWithCopyWarning: \n",
      "A value is trying to be set on a copy of a slice from a DataFrame.\n",
      "Try using .loc[row_indexer,col_indexer] = value instead\n",
      "\n",
      "See the caveats in the documentation: https://pandas.pydata.org/pandas-docs/stable/user_guide/indexing.html#returning-a-view-versus-a-copy\n",
      "  x['Online']=x['Online'].replace({1:'Yes',0:'No'})\n",
      "C:\\Users\\aniru\\AppData\\Local\\Temp\\ipykernel_3264\\2819352705.py:20: SettingWithCopyWarning: \n",
      "A value is trying to be set on a copy of a slice from a DataFrame.\n",
      "Try using .loc[row_indexer,col_indexer] = value instead\n",
      "\n",
      "See the caveats in the documentation: https://pandas.pydata.org/pandas-docs/stable/user_guide/indexing.html#returning-a-view-versus-a-copy\n",
      "  x['CreditCard']=x['CreditCard'].replace({1:'Yes',0:'No'})\n",
      "C:\\Users\\aniru\\AppData\\Local\\Temp\\ipykernel_3264\\2819352705.py:23: SettingWithCopyWarning: \n",
      "A value is trying to be set on a copy of a slice from a DataFrame.\n",
      "Try using .loc[row_indexer,col_indexer] = value instead\n",
      "\n",
      "See the caveats in the documentation: https://pandas.pydata.org/pandas-docs/stable/user_guide/indexing.html#returning-a-view-versus-a-copy\n",
      "  x['ZIP Code']=x['ZIP Code'].astype(object)\n",
      "C:\\Users\\aniru\\AppData\\Local\\Temp\\ipykernel_3264\\2819352705.py:24: SettingWithCopyWarning: \n",
      "A value is trying to be set on a copy of a slice from a DataFrame.\n",
      "Try using .loc[row_indexer,col_indexer] = value instead\n",
      "\n",
      "See the caveats in the documentation: https://pandas.pydata.org/pandas-docs/stable/user_guide/indexing.html#returning-a-view-versus-a-copy\n",
      "  x['ID']=x['ID'].astype(object)\n"
     ]
    }
   ],
   "source": [
    "#Understanding the categorical variables in a detailed manner-\n",
    "x=df[['ID','ZIP Code','Education','Personal Loan','Securities Account','CD Account','Online','CreditCard']]\n",
    "print(x.isnull().sum())\n",
    "\n",
    "x['Education']=x['Education'].replace({1:'Undergrad',2:'Graduate',3:'Advanced/Professional'})\n",
    "x['Education'].value_counts()\n",
    "\n",
    "x['Personal Loan']=x['Personal Loan'].replace({1:'Yes',0:'No'})\n",
    "x['Personal Loan'].value_counts()\n",
    "\n",
    "x['Securities Account']=x['Securities Account'].replace({1:'Yes',0:'No'})\n",
    "x['Securities Account'].value_counts()\n",
    "\n",
    "x['CD Account']=x['CD Account'].replace({1:'Yes',0:'No'})\n",
    "x['CD Account'].value_counts()\n",
    "\n",
    "x['Online']=x['Online'].replace({1:'Yes',0:'No'})\n",
    "x['Online'].value_counts()\n",
    "\n",
    "x['CreditCard']=x['CreditCard'].replace({1:'Yes',0:'No'})\n",
    "x['CreditCard'].value_counts()\n",
    "\n",
    "x['ZIP Code']=x['ZIP Code'].astype(object)\n",
    "x['ID']=x['ID'].astype(object)\n",
    "x.info()"
   ]
  },
  {
   "cell_type": "code",
   "execution_count": 35,
   "id": "cb34d8c7",
   "metadata": {
    "scrolled": true
   },
   "outputs": [
    {
     "name": "stdout",
     "output_type": "stream",
     "text": [
      "<class 'pandas.core.frame.DataFrame'>\n",
      "RangeIndex: 5000 entries, 0 to 4999\n",
      "Data columns (total 6 columns):\n",
      " #   Column      Non-Null Count  Dtype  \n",
      "---  ------      --------------  -----  \n",
      " 0   Age         5000 non-null   int64  \n",
      " 1   Experience  5000 non-null   int64  \n",
      " 2   Income      5000 non-null   int64  \n",
      " 3   Family      5000 non-null   int64  \n",
      " 4   CCAvg       5000 non-null   float64\n",
      " 5   Mortgage    5000 non-null   int64  \n",
      "dtypes: float64(1), int64(5)\n",
      "memory usage: 234.5 KB\n"
     ]
    }
   ],
   "source": [
    "#Understanding the continuous variables in a detailed manner-\n",
    "y=df[['Age','Experience','Income','Family','CCAvg','Mortgage']]\n",
    "y.info()"
   ]
  },
  {
   "cell_type": "markdown",
   "id": "8a6e741e",
   "metadata": {},
   "source": [
    "#### Question-8) Give us the statistical summary for all the variables in the dataset."
   ]
  },
  {
   "cell_type": "code",
   "execution_count": 36,
   "id": "1642f768",
   "metadata": {},
   "outputs": [
    {
     "name": "stdout",
     "output_type": "stream",
     "text": [
      "             count       mean         std   min   25%   50%    75%    max\n",
      "Age         5000.0  45.338400   11.463166  23.0  35.0  45.0   55.0   67.0\n",
      "Experience  5000.0  20.104600   11.467954  -3.0  10.0  20.0   30.0   43.0\n",
      "Income      5000.0  73.774200   46.033729   8.0  39.0  64.0   98.0  224.0\n",
      "Family      5000.0   2.396400    1.147663   1.0   1.0   2.0    3.0    4.0\n",
      "CCAvg       5000.0   1.937938    1.747659   0.0   0.7   1.5    2.5   10.0\n",
      "Mortgage    5000.0  56.498800  101.713802   0.0   0.0   0.0  101.0  635.0\n",
      "                   count unique        top  freq\n",
      "ID                  5000   5000          1     1\n",
      "ZIP Code            5000    467      94720   169\n",
      "Education           5000      3  Undergrad  2096\n",
      "Personal Loan       5000      2         No  4520\n",
      "Securities Account  5000      2         No  4478\n",
      "CD Account          5000      2         No  4698\n",
      "Online              5000      2        Yes  2984\n",
      "CreditCard          5000      2         No  3530\n"
     ]
    }
   ],
   "source": [
    "print(y.describe().T) #For continuous variables\n",
    "print(x.describe().T) #For categorical variables"
   ]
  },
  {
   "cell_type": "markdown",
   "id": "a010d51a",
   "metadata": {},
   "source": [
    "#### Question-9) Evaluate the measures of central tendency and measures of dispersion for all the quantitative variables in the dataset."
   ]
  },
  {
   "cell_type": "code",
   "execution_count": 37,
   "id": "dc6d73a9",
   "metadata": {},
   "outputs": [
    {
     "name": "stdout",
     "output_type": "stream",
     "text": [
      "Mean for the variables--\n",
      "Age           45.338400\n",
      "Experience    20.104600\n",
      "Income        73.774200\n",
      "Family         2.396400\n",
      "CCAvg          1.937938\n",
      "Mortgage      56.498800\n",
      "dtype: float64\n",
      "Median for the variables--\n",
      "Age           45.0\n",
      "Experience    20.0\n",
      "Income        64.0\n",
      "Family         2.0\n",
      "CCAvg          1.5\n",
      "Mortgage       0.0\n",
      "dtype: float64\n",
      "Mode for the variables--\n",
      "               0\n",
      "Age         35.0\n",
      "Experience  32.0\n",
      "Income      44.0\n",
      "Family       1.0\n",
      "CCAvg        0.3\n",
      "Mortgage     0.0\n",
      "Variance for the variables--\n",
      "Age             131.404166\n",
      "Experience      131.513962\n",
      "Income         2119.104235\n",
      "Family            1.317130\n",
      "CCAvg             3.054312\n",
      "Mortgage      10345.697538\n",
      "dtype: float64\n",
      "Standard Deviation for the variables--\n",
      "Age            11.463166\n",
      "Experience     11.467954\n",
      "Income         46.033729\n",
      "Family          1.147663\n",
      "CCAvg           1.747659\n",
      "Mortgage      101.713802\n",
      "dtype: float64\n",
      "Skewness for the variables--\n",
      "Age          -0.029341\n",
      "Experience   -0.026325\n",
      "Income        0.841339\n",
      "Family        0.155221\n",
      "CCAvg         1.598443\n",
      "Mortgage      2.104002\n",
      "dtype: float64\n",
      "Kurtosis for the variables--\n",
      "Age          -1.153067\n",
      "Experience   -1.121523\n",
      "Income       -0.044244\n",
      "Family       -1.403586\n",
      "CCAvg         2.646706\n",
      "Mortgage      4.756797\n",
      "dtype: float64\n"
     ]
    }
   ],
   "source": [
    "#Measures of central tendency-\n",
    "print('Mean for the variables--')\n",
    "print(y.mean().T)\n",
    "print('Median for the variables--')\n",
    "print(y.median().T)\n",
    "print('Mode for the variables--')\n",
    "print(y.mode().T)\n",
    "\n",
    "#Measures of dispersion- \n",
    "print('Variance for the variables--')\n",
    "print(y.var().T)\n",
    "print('Standard Deviation for the variables--')\n",
    "print(y.std().T)\n",
    "print('Skewness for the variables--')\n",
    "print(y.skew().T)\n",
    "print('Kurtosis for the variables--')\n",
    "print(y.kurt().T)"
   ]
  },
  {
   "cell_type": "markdown",
   "id": "cd76cfbf",
   "metadata": {},
   "source": [
    "#### Question-10) What statistical method will you use to examine the presence of a linear relationship between age and experience variables? Also, create a plot to illustrate this relationship."
   ]
  },
  {
   "cell_type": "markdown",
   "id": "45aefd6c",
   "metadata": {},
   "source": [
    "1) To determine the presence of linear relationship between age and experience, we will use correlation.\n",
    "2) By using the pearson's correlation coefficient, we can determine the direction and strength of the relationship between these two variables.\n",
    "3) In addition to that, we will use the scatter plot to visualize the relationship between these two variables. "
   ]
  },
  {
   "cell_type": "code",
   "execution_count": 38,
   "id": "306ce695",
   "metadata": {},
   "outputs": [
    {
     "name": "stdout",
     "output_type": "stream",
     "text": [
      "                 Age  Experience\n",
      "Age         1.000000    0.994215\n",
      "Experience  0.994215    1.000000\n"
     ]
    }
   ],
   "source": [
    "a=y[['Age','Experience']].corr()\n",
    "print(a)"
   ]
  },
  {
   "cell_type": "code",
   "execution_count": 39,
   "id": "6223a734",
   "metadata": {},
   "outputs": [
    {
     "data": {
      "text/plain": [
       "<Axes: xlabel='Age', ylabel='Income'>"
      ]
     },
     "execution_count": 39,
     "metadata": {},
     "output_type": "execute_result"
    },
    {
     "data": {
      "image/png": "[encoded data removed]",
      "text/plain": [
       "<Figure size 640x480 with 1 Axes>"
      ]
     },
     "metadata": {},
     "output_type": "display_data"
    }
   ],
   "source": [
    "sns.scatterplot(x='Age',y='Income',data=y)"
   ]
  },
  {
   "cell_type": "markdown",
   "id": "b5e51234",
   "metadata": {},
   "source": [
    "#### Conclusion- \n",
    "There exists a strong, non-linear, positive correlationship between Age and Income as,the value of pearson's correlation coefficient is higher than 0.85 and the scatter plot is not showcasing any kind of linearity pattern for the relationship between these two variables. "
   ]
  },
  {
   "cell_type": "markdown",
   "id": "9e22b3a1",
   "metadata": {},
   "source": [
    "#### Question-11) What is the most frequent family size observed in this dataset?"
   ]
  },
  {
   "cell_type": "code",
   "execution_count": 40,
   "id": "3d112e21",
   "metadata": {},
   "outputs": [
    {
     "name": "stdout",
     "output_type": "stream",
     "text": [
      "0    1\n",
      "Name: Family, dtype: int64\n"
     ]
    }
   ],
   "source": [
    "z=y['Family'].mode()\n",
    "print(z)"
   ]
  },
  {
   "cell_type": "code",
   "execution_count": 41,
   "id": "36059ef7",
   "metadata": {},
   "outputs": [
    {
     "name": "stdout",
     "output_type": "stream",
     "text": [
      "Family\n",
      "1    1472\n",
      "2    1296\n",
      "4    1222\n",
      "3    1010\n",
      "Name: count, dtype: int64\n"
     ]
    }
   ],
   "source": [
    "z=y['Family'].value_counts()\n",
    "print(z)"
   ]
  },
  {
   "cell_type": "markdown",
   "id": "941ae2f2",
   "metadata": {},
   "source": [
    "#### Conclusion- \n",
    "The most frequest family size recorded in the data set is 1. "
   ]
  },
  {
   "cell_type": "markdown",
   "id": "1a2a48ff",
   "metadata": {},
   "source": [
    "#### Question.12)- What is the percentage of variation you can observe in the ‘Income’ variable?"
   ]
  },
  {
   "cell_type": "code",
   "execution_count": 45,
   "id": "25d430e1",
   "metadata": {},
   "outputs": [
    {
     "name": "stdout",
     "output_type": "stream",
     "text": [
      "0.8413386072610816\n",
      "62.39814097758611\n"
     ]
    },
    {
     "name": "stderr",
     "output_type": "stream",
     "text": [
      "C:\\Users\\aniru\\AppData\\Local\\Temp\\ipykernel_3264\\403647878.py:5: SettingWithCopyWarning: \n",
      "A value is trying to be set on a copy of a slice from a DataFrame.\n",
      "Try using .loc[row_indexer,col_indexer] = value instead\n",
      "\n",
      "See the caveats in the documentation: https://pandas.pydata.org/pandas-docs/stable/user_guide/indexing.html#returning-a-view-versus-a-copy\n",
      "  y['Percent_Variation_for_Income']=(y['Income'].std()/y['Income'].mean())*100\n"
     ]
    },
    {
     "data": {
      "text/html": [
       "<div>\n",
       "<style scoped>\n",
       "    .dataframe tbody tr th:only-of-type {\n",
       "        vertical-align: middle;\n",
       "    }\n",
       "\n",
       "    .dataframe tbody tr th {\n",
       "        vertical-align: top;\n",
       "    }\n",
       "\n",
       "    .dataframe thead th {\n",
       "        text-align: right;\n",
       "    }\n",
       "</style>\n",
       "<table border=\"1\" class=\"dataframe\">\n",
       "  <thead>\n",
       "    <tr style=\"text-align: right;\">\n",
       "      <th></th>\n",
       "      <th>Age</th>\n",
       "      <th>Experience</th>\n",
       "      <th>Income</th>\n",
       "      <th>Family</th>\n",
       "      <th>CCAvg</th>\n",
       "      <th>Mortgage</th>\n",
       "      <th>Percent_Variation_for_Income</th>\n",
       "    </tr>\n",
       "  </thead>\n",
       "  <tbody>\n",
       "    <tr>\n",
       "      <th>0</th>\n",
       "      <td>25</td>\n",
       "      <td>1</td>\n",
       "      <td>49</td>\n",
       "      <td>4</td>\n",
       "      <td>1.6</td>\n",
       "      <td>0</td>\n",
       "      <td>62.398141</td>\n",
       "    </tr>\n",
       "    <tr>\n",
       "      <th>1</th>\n",
       "      <td>45</td>\n",
       "      <td>19</td>\n",
       "      <td>34</td>\n",
       "      <td>3</td>\n",
       "      <td>1.5</td>\n",
       "      <td>0</td>\n",
       "      <td>62.398141</td>\n",
       "    </tr>\n",
       "    <tr>\n",
       "      <th>2</th>\n",
       "      <td>39</td>\n",
       "      <td>15</td>\n",
       "      <td>11</td>\n",
       "      <td>1</td>\n",
       "      <td>1.0</td>\n",
       "      <td>0</td>\n",
       "      <td>62.398141</td>\n",
       "    </tr>\n",
       "    <tr>\n",
       "      <th>3</th>\n",
       "      <td>35</td>\n",
       "      <td>9</td>\n",
       "      <td>100</td>\n",
       "      <td>1</td>\n",
       "      <td>2.7</td>\n",
       "      <td>0</td>\n",
       "      <td>62.398141</td>\n",
       "    </tr>\n",
       "    <tr>\n",
       "      <th>4</th>\n",
       "      <td>35</td>\n",
       "      <td>8</td>\n",
       "      <td>45</td>\n",
       "      <td>4</td>\n",
       "      <td>1.0</td>\n",
       "      <td>0</td>\n",
       "      <td>62.398141</td>\n",
       "    </tr>\n",
       "    <tr>\n",
       "      <th>...</th>\n",
       "      <td>...</td>\n",
       "      <td>...</td>\n",
       "      <td>...</td>\n",
       "      <td>...</td>\n",
       "      <td>...</td>\n",
       "      <td>...</td>\n",
       "      <td>...</td>\n",
       "    </tr>\n",
       "    <tr>\n",
       "      <th>4995</th>\n",
       "      <td>29</td>\n",
       "      <td>3</td>\n",
       "      <td>40</td>\n",
       "      <td>1</td>\n",
       "      <td>1.9</td>\n",
       "      <td>0</td>\n",
       "      <td>62.398141</td>\n",
       "    </tr>\n",
       "    <tr>\n",
       "      <th>4996</th>\n",
       "      <td>30</td>\n",
       "      <td>4</td>\n",
       "      <td>15</td>\n",
       "      <td>4</td>\n",
       "      <td>0.4</td>\n",
       "      <td>85</td>\n",
       "      <td>62.398141</td>\n",
       "    </tr>\n",
       "    <tr>\n",
       "      <th>4997</th>\n",
       "      <td>63</td>\n",
       "      <td>39</td>\n",
       "      <td>24</td>\n",
       "      <td>2</td>\n",
       "      <td>0.3</td>\n",
       "      <td>0</td>\n",
       "      <td>62.398141</td>\n",
       "    </tr>\n",
       "    <tr>\n",
       "      <th>4998</th>\n",
       "      <td>65</td>\n",
       "      <td>40</td>\n",
       "      <td>49</td>\n",
       "      <td>3</td>\n",
       "      <td>0.5</td>\n",
       "      <td>0</td>\n",
       "      <td>62.398141</td>\n",
       "    </tr>\n",
       "    <tr>\n",
       "      <th>4999</th>\n",
       "      <td>28</td>\n",
       "      <td>4</td>\n",
       "      <td>83</td>\n",
       "      <td>3</td>\n",
       "      <td>0.8</td>\n",
       "      <td>0</td>\n",
       "      <td>62.398141</td>\n",
       "    </tr>\n",
       "  </tbody>\n",
       "</table>\n",
       "<p>5000 rows × 7 columns</p>\n",
       "</div>"
      ],
      "text/plain": [
       "      Age  Experience  Income  Family  CCAvg  Mortgage  \\\n",
       "0      25           1      49       4    1.6         0   \n",
       "1      45          19      34       3    1.5         0   \n",
       "2      39          15      11       1    1.0         0   \n",
       "3      35           9     100       1    2.7         0   \n",
       "4      35           8      45       4    1.0         0   \n",
       "...   ...         ...     ...     ...    ...       ...   \n",
       "4995   29           3      40       1    1.9         0   \n",
       "4996   30           4      15       4    0.4        85   \n",
       "4997   63          39      24       2    0.3         0   \n",
       "4998   65          40      49       3    0.5         0   \n",
       "4999   28           4      83       3    0.8         0   \n",
       "\n",
       "      Percent_Variation_for_Income  \n",
       "0                        62.398141  \n",
       "1                        62.398141  \n",
       "2                        62.398141  \n",
       "3                        62.398141  \n",
       "4                        62.398141  \n",
       "...                            ...  \n",
       "4995                     62.398141  \n",
       "4996                     62.398141  \n",
       "4997                     62.398141  \n",
       "4998                     62.398141  \n",
       "4999                     62.398141  \n",
       "\n",
       "[5000 rows x 7 columns]"
      ]
     },
     "execution_count": 45,
     "metadata": {},
     "output_type": "execute_result"
    }
   ],
   "source": [
    "print(y['Income'].skew())\n",
    "# As the skewness value for the income variable lies inbetween (-1 to 1), i.e. aceptable range, \n",
    "# we can use mean and standard deviation to determine the percentage of variation. \n",
    "\n",
    "y['Percent_Variation_for_Income']=(y['Income'].std()/y['Income'].mean())*100\n",
    "print(y['Percent_Variation_for_Income'].mean())\n",
    "y"
   ]
  },
  {
   "cell_type": "markdown",
   "id": "35f1b925",
   "metadata": {},
   "source": [
    "#### Conclusion-\n",
    "The income variable showcases 62.4% of variation, which indicates that it has higher dispersion/spread."
   ]
  },
  {
   "cell_type": "markdown",
   "id": "dcf535cf",
   "metadata": {},
   "source": [
    "#### Question.13)-The ‘Mortgage’ variable has a lot of zeroes. Impute with some business logical value that you feel fit for the data."
   ]
  },
  {
   "cell_type": "code",
   "execution_count": 47,
   "id": "8e13459f",
   "metadata": {},
   "outputs": [
    {
     "name": "stdout",
     "output_type": "stream",
     "text": [
      "56.4988\n",
      "0\n"
     ]
    },
    {
     "data": {
      "text/plain": [
       "<Axes: xlabel='Mortgage', ylabel='Count'>"
      ]
     },
     "execution_count": 47,
     "metadata": {},
     "output_type": "execute_result"
    },
    {
     "data": {
      "image/png": "[encoded data removed]",
      "text/plain": [
       "<Figure size 640x480 with 1 Axes>"
      ]
     },
     "metadata": {},
     "output_type": "display_data"
    }
   ],
   "source": [
    "print(y['Mortgage'].mean()) #Before imputation\n",
    "y['Mortgage'].replace({0:y['Mortgage'].mean()})\n",
    "print(y['Mortgage'].isnull().sum())\n",
    "sns.histplot(data=y, x='Mortgage')\n",
    "\n",
    "#Here all the null values are filled by using the mean, as the mortgage variable is continuous in nature \n",
    "#and median for the variable is before replacing is coming as 0."
   ]
  },
  {
   "cell_type": "markdown",
   "id": "8175a0bd",
   "metadata": {},
   "source": [
    "#### Question.14)-Plot a density curve of the CCAvg variable for the customers who possess credit cards and write an interpretation about its distribution."
   ]
  },
  {
   "cell_type": "code",
   "execution_count": 49,
   "id": "142ddfd2",
   "metadata": {},
   "outputs": [
    {
     "name": "stdout",
     "output_type": "stream",
     "text": [
      "<class 'pandas.core.frame.DataFrame'>\n",
      "RangeIndex: 5000 entries, 0 to 4999\n",
      "Data columns (total 15 columns):\n",
      " #   Column                        Non-Null Count  Dtype  \n",
      "---  ------                        --------------  -----  \n",
      " 0   ID                            5000 non-null   object \n",
      " 1   ZIP Code                      5000 non-null   object \n",
      " 2   Education                     5000 non-null   object \n",
      " 3   Personal Loan                 5000 non-null   object \n",
      " 4   Securities Account            5000 non-null   object \n",
      " 5   CD Account                    5000 non-null   object \n",
      " 6   Online                        5000 non-null   object \n",
      " 7   CreditCard                    5000 non-null   object \n",
      " 8   Age                           5000 non-null   int64  \n",
      " 9   Experience                    5000 non-null   int64  \n",
      " 10  Income                        5000 non-null   int64  \n",
      " 11  Family                        5000 non-null   int64  \n",
      " 12  CCAvg                         5000 non-null   float64\n",
      " 13  Mortgage                      5000 non-null   int64  \n",
      " 14  Percent_Variation_for_Income  5000 non-null   float64\n",
      "dtypes: float64(2), int64(5), object(8)\n",
      "memory usage: 586.1+ KB\n",
      "<class 'pandas.core.frame.DataFrame'>\n",
      "Index: 1470 entries, 4 to 4999\n",
      "Data columns (total 15 columns):\n",
      " #   Column                        Non-Null Count  Dtype  \n",
      "---  ------                        --------------  -----  \n",
      " 0   ID                            1470 non-null   object \n",
      " 1   ZIP Code                      1470 non-null   object \n",
      " 2   Education                     1470 non-null   object \n",
      " 3   Personal Loan                 1470 non-null   object \n",
      " 4   Securities Account            1470 non-null   object \n",
      " 5   CD Account                    1470 non-null   object \n",
      " 6   Online                        1470 non-null   object \n",
      " 7   CreditCard                    1470 non-null   object \n",
      " 8   Age                           1470 non-null   int64  \n",
      " 9   Experience                    1470 non-null   int64  \n",
      " 10  Income                        1470 non-null   int64  \n",
      " 11  Family                        1470 non-null   int64  \n",
      " 12  CCAvg                         1470 non-null   float64\n",
      " 13  Mortgage                      1470 non-null   int64  \n",
      " 14  Percent_Variation_for_Income  1470 non-null   float64\n",
      "dtypes: float64(2), int64(5), object(8)\n",
      "memory usage: 183.8+ KB\n",
      "Skewnes for the CCAvg is-\n",
      "1.604308925214671\n",
      "Kurtosis for the CCAvg is-\n",
      "2.644005580202998\n",
      "Variance for the CCAvg is-\n",
      "2.9920115411937407\n"
     ]
    },
    {
     "data": {
      "image/png": "[encoded data removed]",
      "text/plain": [
       "<Figure size 640x480 with 1 Axes>"
      ]
     },
     "metadata": {},
     "output_type": "display_data"
    }
   ],
   "source": [
    "new_df=pd.concat([x,y],axis=1)\n",
    "new_df\n",
    "new_df.info()\n",
    "\n",
    "f1=new_df.loc[new_df['CreditCard'].str.contains('Yes')]\n",
    "f1.info()\n",
    "sns.kdeplot(data=f1,x='CCAvg')\n",
    "plt.title('CCAvg_Density_Plot')\n",
    "\n",
    "print('Skewnes for the CCAvg is-')\n",
    "print(f1['CCAvg'].skew())\n",
    "print('Kurtosis for the CCAvg is-')\n",
    "print(f1['CCAvg'].kurt())\n",
    "print('Variance for the CCAvg is-')\n",
    "print(f1['CCAvg'].var())\n"
   ]
  },
  {
   "cell_type": "markdown",
   "id": "212cef0e",
   "metadata": {},
   "source": [
    "#### Interpretation of the density plot-\n",
    "The density plot indicates that the variable observes high spread and deviation from the mean.\n",
    "The plot also showcases that, the distribution of the variable is righly skewed (Asymmetric dstribution)\n",
    "Finally, as the value of kurtosis is 2.64, it can be considered as mesokurtic curve."
   ]
  },
  {
   "cell_type": "markdown",
   "id": "5fea7b64",
   "metadata": {},
   "source": [
    "#### Question.15)-Do you see any outliers in the dataset? If yes, what plot you would think will be suitable to showcase to the stakeholders?"
   ]
  },
  {
   "cell_type": "code",
   "execution_count": 50,
   "id": "b3226541",
   "metadata": {},
   "outputs": [
    {
     "data": {
      "text/plain": [
       "Text(0.5, 1.0, 'Boxplot_for_Continuous_Variables_Under_Study')"
      ]
     },
     "execution_count": 50,
     "metadata": {},
     "output_type": "execute_result"
    },
    {
     "data": {
      "image/png": "[encoded data removed]",
      "text/plain": [
       "<Figure size 640x480 with 1 Axes>"
      ]
     },
     "metadata": {},
     "output_type": "display_data"
    }
   ],
   "source": [
    "x2=y.drop(['Percent_Variation_for_Income'],axis=1)\n",
    "x2\n",
    "sns.boxplot(data=x2)\n",
    "plt.title('Boxplot_for_Continuous_Variables_Under_Study')"
   ]
  },
  {
   "cell_type": "code",
   "execution_count": 51,
   "id": "5fe13656",
   "metadata": {},
   "outputs": [
    {
     "data": {
      "text/plain": [
       "<Axes: xlabel='CCAvg'>"
      ]
     },
     "execution_count": 51,
     "metadata": {},
     "output_type": "execute_result"
    },
    {
     "data": {
      "image/png": "[encoded data removed]",
      "text/plain": [
       "<Figure size 640x480 with 1 Axes>"
      ]
     },
     "metadata": {},
     "output_type": "display_data"
    }
   ],
   "source": [
    "sns.boxplot(data=x2,x='CCAvg')"
   ]
  },
  {
   "cell_type": "markdown",
   "id": "9360e0fd",
   "metadata": {},
   "source": [
    "### Conclusion-\n",
    "There exists a distinct outliers in the dataser for variables namely, Income, CCAvg, and Mortgage.\n",
    "Box plot is used to visualize the presence of distinct outliers in the dataframe, hence we have used the boxplot to visualize the outliers for the above mentioned continuous variables. "
   ]
  },
  {
   "cell_type": "markdown",
   "id": "dbb52cea",
   "metadata": {},
   "source": [
    "#### Question.16)-Give us the decile values of the variable ‘Income’ in the dataset."
   ]
  },
  {
   "cell_type": "code",
   "execution_count": 52,
   "id": "2f1524a1",
   "metadata": {},
   "outputs": [
    {
     "name": "stdout",
     "output_type": "stream",
     "text": [
      "Deciles_for_Income_Variable- [22.0, 33.0, 42.0, 52.0, 64.0, 78.0, 88.29999999999973, 113.0, 145.0]\n"
     ]
    }
   ],
   "source": [
    "a_1=x2['Income'].sort_values()\n",
    "deciles = [a_1.quantile(i/10) for i in range(1, 10)]\n",
    "print('Deciles_for_Income_Variable-',deciles)"
   ]
  },
  {
   "cell_type": "markdown",
   "id": "2c532c57",
   "metadata": {},
   "source": [
    "#### Question.17)-Give the IQR of all the variables which are quantitative and continuous."
   ]
  },
  {
   "cell_type": "code",
   "execution_count": 53,
   "id": "90dfb635",
   "metadata": {},
   "outputs": [
    {
     "name": "stdout",
     "output_type": "stream",
     "text": [
      "IQR_for_Continuous_Variables_are_as_follows-\n",
      "Age            20.0\n",
      "Experience     20.0\n",
      "Income         59.0\n",
      "Family          2.0\n",
      "CCAvg           1.8\n",
      "Mortgage      101.0\n",
      "dtype: float64\n"
     ]
    }
   ],
   "source": [
    "x2 #Dataframe containing all the continuous & quantitative variables.\n",
    "A=x2.quantile(0.25)\n",
    "B=x2.quantile(0.75)\n",
    "IQR=(B-A)\n",
    "print('IQR_for_Continuous_Variables_are_as_follows-')\n",
    "print(IQR)\n"
   ]
  },
  {
   "cell_type": "markdown",
   "id": "f8966e92",
   "metadata": {},
   "source": [
    "#### Question.18)-Do the higher-income holders spend more on credit cards?"
   ]
  },
  {
   "cell_type": "markdown",
   "id": "04bace88",
   "metadata": {},
   "source": [
    "To filterout the higher-income holders from the dataframe, \n",
    "I have created a class for income holders present after the 60.0% (1/6th of decile) of income and called as high-income holders and accordingly created a new dataframe."
   ]
  },
  {
   "cell_type": "code",
   "execution_count": 54,
   "id": "2f2f7947",
   "metadata": {},
   "outputs": [
    {
     "name": "stdout",
     "output_type": "stream",
     "text": [
      "<class 'pandas.core.frame.DataFrame'>\n",
      "Index: 594 entries, 24 to 4999\n",
      "Data columns (total 15 columns):\n",
      " #   Column                        Non-Null Count  Dtype  \n",
      "---  ------                        --------------  -----  \n",
      " 0   ID                            594 non-null    object \n",
      " 1   ZIP Code                      594 non-null    object \n",
      " 2   Education                     594 non-null    object \n",
      " 3   Personal Loan                 594 non-null    object \n",
      " 4   Securities Account            594 non-null    object \n",
      " 5   CD Account                    594 non-null    object \n",
      " 6   Online                        594 non-null    object \n",
      " 7   CreditCard                    594 non-null    object \n",
      " 8   Age                           594 non-null    int64  \n",
      " 9   Experience                    594 non-null    int64  \n",
      " 10  Income                        594 non-null    int64  \n",
      " 11  Family                        594 non-null    int64  \n",
      " 12  CCAvg                         594 non-null    float64\n",
      " 13  Mortgage                      594 non-null    int64  \n",
      " 14  Percent_Variation_for_Income  594 non-null    float64\n",
      "dtypes: float64(2), int64(5), object(8)\n",
      "memory usage: 74.2+ KB\n",
      "78.0\n",
      "79\n",
      "224\n"
     ]
    }
   ],
   "source": [
    "x3=new_df.loc[(new_df['Income']>new_df['Income'].quantile(0.6)) & (new_df['CreditCard'].str.contains('Yes'))]\n",
    "x3.info()\n",
    "\n",
    "#x3-This dataframe contains information for those customers, \n",
    "#which has been using the credit card and coming in a newly created high-income category group.\n",
    "\n",
    "print(new_df['Income'].quantile(0.6))\n",
    "print(x3['Income'].min())\n",
    "print(x3['Income'].max())"
   ]
  },
  {
   "cell_type": "code",
   "execution_count": 209,
   "id": "5ed11cda",
   "metadata": {},
   "outputs": [
    {
     "name": "stdout",
     "output_type": "stream",
     "text": [
      "119.53872053872054\n",
      "2.998686868686869\n"
     ]
    }
   ],
   "source": [
    "#Mean of income for the newly created high income customer group-\n",
    "print(x3['Income'].mean())\n",
    "\n",
    "#Mean of Avg. Spending of credit cards for the newly created high income customer group-\n",
    "print(x3['CCAvg'].mean())"
   ]
  },
  {
   "cell_type": "code",
   "execution_count": 57,
   "id": "22db2cea",
   "metadata": {},
   "outputs": [
    {
     "name": "stdout",
     "output_type": "stream",
     "text": [
      "<class 'pandas.core.frame.DataFrame'>\n",
      "Index: 862 entries, 4 to 4990\n",
      "Data columns (total 15 columns):\n",
      " #   Column                        Non-Null Count  Dtype  \n",
      "---  ------                        --------------  -----  \n",
      " 0   ID                            862 non-null    object \n",
      " 1   ZIP Code                      862 non-null    object \n",
      " 2   Education                     862 non-null    object \n",
      " 3   Personal Loan                 862 non-null    object \n",
      " 4   Securities Account            862 non-null    object \n",
      " 5   CD Account                    862 non-null    object \n",
      " 6   Online                        862 non-null    object \n",
      " 7   CreditCard                    862 non-null    object \n",
      " 8   Age                           862 non-null    int64  \n",
      " 9   Experience                    862 non-null    int64  \n",
      " 10  Income                        862 non-null    int64  \n",
      " 11  Family                        862 non-null    int64  \n",
      " 12  CCAvg                         862 non-null    float64\n",
      " 13  Mortgage                      862 non-null    int64  \n",
      " 14  Percent_Variation_for_Income  862 non-null    float64\n",
      "dtypes: float64(2), int64(5), object(8)\n",
      "memory usage: 107.8+ KB\n",
      "41.87935034802784\n",
      "1.1760440835266823\n"
     ]
    }
   ],
   "source": [
    "x4=new_df.loc[(new_df['Income']<new_df['Income'].quantile(0.6)) & (new_df['CreditCard'].str.contains('Yes'))]\n",
    "x4.info()\n",
    "\n",
    "#Mean of income for the remaining customers-\n",
    "print(x4['Income'].mean())\n",
    "\n",
    "#Mean of income for the remaining customers-\n",
    "print(x4['CCAvg'].mean())"
   ]
  },
  {
   "cell_type": "markdown",
   "id": "878eb6ea",
   "metadata": {},
   "source": [
    "#### Conclusion- \n",
    "As the mean of annual income and avg. spending on credit cards per month for newly created higher income group is higher than the remaining customers(60%), we can to conclude that, higher income holders are spending more on credit cards"
   ]
  },
  {
   "cell_type": "markdown",
   "id": "a6422a54",
   "metadata": {},
   "source": [
    "#### Question.19)-How many customers use online banking? Do customers using bank internet facilities have higher incomes?"
   ]
  },
  {
   "cell_type": "code",
   "execution_count": 62,
   "id": "2f044343",
   "metadata": {},
   "outputs": [
    {
     "name": "stdout",
     "output_type": "stream",
     "text": [
      "<class 'pandas.core.frame.DataFrame'>\n",
      "Index: 2984 entries, 5 to 4999\n",
      "Data columns (total 15 columns):\n",
      " #   Column                        Non-Null Count  Dtype  \n",
      "---  ------                        --------------  -----  \n",
      " 0   ID                            2984 non-null   object \n",
      " 1   ZIP Code                      2984 non-null   object \n",
      " 2   Education                     2984 non-null   object \n",
      " 3   Personal Loan                 2984 non-null   object \n",
      " 4   Securities Account            2984 non-null   object \n",
      " 5   CD Account                    2984 non-null   object \n",
      " 6   Online                        2984 non-null   object \n",
      " 7   CreditCard                    2984 non-null   object \n",
      " 8   Age                           2984 non-null   int64  \n",
      " 9   Experience                    2984 non-null   int64  \n",
      " 10  Income                        2984 non-null   int64  \n",
      " 11  Family                        2984 non-null   int64  \n",
      " 12  CCAvg                         2984 non-null   float64\n",
      " 13  Mortgage                      2984 non-null   int64  \n",
      " 14  Percent_Variation_for_Income  2984 non-null   float64\n",
      "dtypes: float64(2), int64(5), object(8)\n",
      "memory usage: 373.0+ KB\n",
      "<class 'pandas.core.frame.DataFrame'>\n",
      "Index: 2016 entries, 0 to 4997\n",
      "Data columns (total 15 columns):\n",
      " #   Column                        Non-Null Count  Dtype  \n",
      "---  ------                        --------------  -----  \n",
      " 0   ID                            2016 non-null   object \n",
      " 1   ZIP Code                      2016 non-null   object \n",
      " 2   Education                     2016 non-null   object \n",
      " 3   Personal Loan                 2016 non-null   object \n",
      " 4   Securities Account            2016 non-null   object \n",
      " 5   CD Account                    2016 non-null   object \n",
      " 6   Online                        2016 non-null   object \n",
      " 7   CreditCard                    2016 non-null   object \n",
      " 8   Age                           2016 non-null   int64  \n",
      " 9   Experience                    2016 non-null   int64  \n",
      " 10  Income                        2016 non-null   int64  \n",
      " 11  Family                        2016 non-null   int64  \n",
      " 12  CCAvg                         2016 non-null   float64\n",
      " 13  Mortgage                      2016 non-null   int64  \n",
      " 14  Percent_Variation_for_Income  2016 non-null   float64\n",
      "dtypes: float64(2), int64(5), object(8)\n",
      "memory usage: 252.0+ KB\n",
      "Online\n",
      "Yes    2984\n",
      "Name: count, dtype: int64\n",
      "Mean for the customers that are using online banking- 74.31166219839142\n",
      "Mean for the customers that are not using online banking- 72.97867063492063\n"
     ]
    }
   ],
   "source": [
    "x5=new_df.loc[(new_df['Online'].str.contains('Yes'))]\n",
    "x5.info()\n",
    "x6=new_df.loc[(new_df['Online'].str.contains('No'))]\n",
    "x6.info()\n",
    "print(x5['Online'].value_counts())\n",
    "print('Mean for the customers that are using online banking-',x5['Income'].mean())\n",
    "print('Mean for the customers that are not using online banking-',x6['Income'].mean())"
   ]
  },
  {
   "cell_type": "markdown",
   "id": "491119cd",
   "metadata": {},
   "source": [
    "### Conslusion-\n",
    "1) A total of 2984 customers are using the online banking.\n",
    "2) Customers who have opted for online banking have higher income, as their income mean (74.31) is higher than the mean of customers who have not opted for online services (72.97)"
   ]
  },
  {
   "cell_type": "markdown",
   "id": "f1d28ed0",
   "metadata": {},
   "source": [
    "#### Question.20)- Using the z-score of the income variable, find out the number of observations outside the +-3σ."
   ]
  },
  {
   "cell_type": "code",
   "execution_count": 221,
   "id": "8b6abea6",
   "metadata": {},
   "outputs": [],
   "source": [
    "from scipy.stats import zscore"
   ]
  },
  {
   "cell_type": "code",
   "execution_count": 235,
   "id": "8b8649f4",
   "metadata": {},
   "outputs": [
    {
     "name": "stdout",
     "output_type": "stream",
     "text": [
      "<class 'pandas.core.series.Series'>\n",
      "RangeIndex: 5000 entries, 0 to 4999\n",
      "Series name: Income\n",
      "Non-Null Count  Dtype\n",
      "--------------  -----\n",
      "5000 non-null   int64\n",
      "dtypes: int64(1)\n",
      "memory usage: 39.2 KB\n",
      "73.7742\n",
      "46.033729321086334\n"
     ]
    },
    {
     "data": {
      "text/html": [
       "<div>\n",
       "<style scoped>\n",
       "    .dataframe tbody tr th:only-of-type {\n",
       "        vertical-align: middle;\n",
       "    }\n",
       "\n",
       "    .dataframe tbody tr th {\n",
       "        vertical-align: top;\n",
       "    }\n",
       "\n",
       "    .dataframe thead th {\n",
       "        text-align: right;\n",
       "    }\n",
       "</style>\n",
       "<table border=\"1\" class=\"dataframe\">\n",
       "  <thead>\n",
       "    <tr style=\"text-align: right;\">\n",
       "      <th></th>\n",
       "      <th>ID</th>\n",
       "      <th>ZIP Code</th>\n",
       "      <th>Education</th>\n",
       "      <th>Personal Loan</th>\n",
       "      <th>Securities Account</th>\n",
       "      <th>CD Account</th>\n",
       "      <th>Online</th>\n",
       "      <th>CreditCard</th>\n",
       "      <th>Age</th>\n",
       "      <th>Experience</th>\n",
       "      <th>Income</th>\n",
       "      <th>Family</th>\n",
       "      <th>CCAvg</th>\n",
       "      <th>Mortgage</th>\n",
       "      <th>Percent_Variation_for_Income</th>\n",
       "      <th>z_score</th>\n",
       "    </tr>\n",
       "  </thead>\n",
       "  <tbody>\n",
       "    <tr>\n",
       "      <th>3896</th>\n",
       "      <td>3897</td>\n",
       "      <td>93940</td>\n",
       "      <td>Undergrad</td>\n",
       "      <td>No</td>\n",
       "      <td>No</td>\n",
       "      <td>Yes</td>\n",
       "      <td>Yes</td>\n",
       "      <td>Yes</td>\n",
       "      <td>48</td>\n",
       "      <td>24</td>\n",
       "      <td>224</td>\n",
       "      <td>2</td>\n",
       "      <td>6.67</td>\n",
       "      <td>0</td>\n",
       "      <td>62.398141</td>\n",
       "      <td>3.263712</td>\n",
       "    </tr>\n",
       "    <tr>\n",
       "      <th>4993</th>\n",
       "      <td>4994</td>\n",
       "      <td>91801</td>\n",
       "      <td>Undergrad</td>\n",
       "      <td>No</td>\n",
       "      <td>No</td>\n",
       "      <td>No</td>\n",
       "      <td>Yes</td>\n",
       "      <td>No</td>\n",
       "      <td>45</td>\n",
       "      <td>21</td>\n",
       "      <td>218</td>\n",
       "      <td>2</td>\n",
       "      <td>6.67</td>\n",
       "      <td>0</td>\n",
       "      <td>62.398141</td>\n",
       "      <td>3.133360</td>\n",
       "    </tr>\n",
       "  </tbody>\n",
       "</table>\n",
       "</div>"
      ],
      "text/plain": [
       "        ID ZIP Code  Education Personal Loan Securities Account CD Account  \\\n",
       "3896  3897    93940  Undergrad            No                 No        Yes   \n",
       "4993  4994    91801  Undergrad            No                 No         No   \n",
       "\n",
       "     Online CreditCard  Age  Experience  Income  Family  CCAvg  Mortgage  \\\n",
       "3896    Yes        Yes   48          24     224       2   6.67         0   \n",
       "4993    Yes         No   45          21     218       2   6.67         0   \n",
       "\n",
       "      Percent_Variation_for_Income   z_score  \n",
       "3896                     62.398141  3.263712  \n",
       "4993                     62.398141  3.133360  "
      ]
     },
     "execution_count": 235,
     "metadata": {},
     "output_type": "execute_result"
    }
   ],
   "source": [
    "new_df['Income'].info()\n",
    "mean=new_df['Income'].mean()\n",
    "SD=new_df['Income'].std()\n",
    "print(mean)\n",
    "print(SD)\n",
    "new_df['z_score'] = zscore(new_df['Income'])\n",
    "outliers = new_df[abs(new_df['z_score']) > 3]\n",
    "num_outliers = len(outliers)\n",
    "outliers"
   ]
  },
  {
   "cell_type": "markdown",
   "id": "3d28a75e",
   "metadata": {},
   "source": [
    "#### Conclusion- \n",
    "There are a total of 2 outliers present outside the +-3σ range."
   ]
  },
  {
   "cell_type": "code",
   "execution_count": null,
   "id": "5cd97c61",
   "metadata": {},
   "outputs": [],
   "source": []
  }
 ],
 "metadata": {
  "kernelspec": {
   "display_name": "Python 3 (ipykernel)",
   "language": "python",
   "name": "python3"
  },
  "language_info": {
   "codemirror_mode": {
    "name": "ipython",
    "version": 3
   },
   "file_extension": ".py",
   "mimetype": "text/x-python",
   "name": "python",
   "nbconvert_exporter": "python",
   "pygments_lexer": "ipython3",
   "version": "3.11.5"
  }
 },
 "nbformat": 4,
 "nbformat_minor": 5
}
